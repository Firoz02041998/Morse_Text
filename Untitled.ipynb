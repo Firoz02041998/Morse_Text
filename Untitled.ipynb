{
 "cells": [
  {
   "cell_type": "code",
   "execution_count": 1,
   "metadata": {},
   "outputs": [
    {
     "name": "stdout",
     "output_type": "stream",
     "text": [
      "Collecting playsound\n",
      "  Downloading https://files.pythonhosted.org/packages/f5/16/10d897b0a83fb4b05b03a63d7a2667ab75f857f67f7062fd447dd3f49bf7/playsound-1.2.2-py2.py3-none-any.whl\n",
      "Installing collected packages: playsound\n",
      "Successfully installed playsound-1.2.2\n"
     ]
    },
    {
     "name": "stderr",
     "output_type": "stream",
     "text": [
      "WARNING: You are using pip version 19.2.3, however version 20.0.2 is available.\n",
      "You should consider upgrading via the 'python -m pip install --upgrade pip' command.\n"
     ]
    }
   ],
   "source": [
    "!pip install playsound"
   ]
  },
  {
   "cell_type": "code",
   "execution_count": 2,
   "metadata": {},
   "outputs": [],
   "source": [
    "import time"
   ]
  },
  {
   "cell_type": "code",
   "execution_count": 4,
   "metadata": {},
   "outputs": [
    {
     "name": "stdout",
     "output_type": "stream",
     "text": [
      "Collecting pyttsx3\n",
      "  Downloading https://files.pythonhosted.org/packages/fd/4b/4981cc11f1a288fa44fb906e07786eaa081b1b42da3f6dce38fe16af0d99/pyttsx3-2.87-py3-none-any.whl\n",
      "Collecting comtypes; platform_system == \"Windows\" (from pyttsx3)\n",
      "  Downloading https://files.pythonhosted.org/packages/fb/b8/f8aa21774acb4535e32f6a89055876ca497ff806f9b1b1912b469284a61e/comtypes-1.1.7.zip (180kB)\n",
      "Building wheels for collected packages: comtypes\n",
      "  Building wheel for comtypes (setup.py): started\n",
      "  Building wheel for comtypes (setup.py): finished with status 'done'\n",
      "  Created wheel for comtypes: filename=comtypes-1.1.7-cp37-none-any.whl size=164608 sha256=2183fb3e4f82a6b629ddd428982162ce6142a663e451b944186322f7c04ba3cf\n",
      "  Stored in directory: C:\\Users\\Firoz Saherawala\\AppData\\Local\\pip\\Cache\\wheels\\a7\\a5\\e1\\49a7738e763143027c7ec97514213055e6c5a978a385541668\n"
     ]
    },
    {
     "name": "stderr",
     "output_type": "stream",
     "text": [
      "WARNING: You are using pip version 19.2.3, however version 20.0.2 is available.\n",
      "You should consider upgrading via the 'python -m pip install --upgrade pip' command.\n"
     ]
    },
    {
     "name": "stdout",
     "output_type": "stream",
     "text": [
      "Successfully built comtypes\n",
      "Installing collected packages: comtypes, pyttsx3\n",
      "Successfully installed comtypes-1.1.7 pyttsx3-2.87\n"
     ]
    }
   ],
   "source": [
    "!pip install pyttsx3"
   ]
  },
  {
   "cell_type": "code",
   "execution_count": 5,
   "metadata": {},
   "outputs": [],
   "source": [
    "import pyttsx3 as pyttsx"
   ]
  },
  {
   "cell_type": "code",
   "execution_count": 6,
   "metadata": {},
   "outputs": [],
   "source": [
    "morse_apha_key= { ' ':'/', 'A':'.-', 'B':'-...', 'C':'-.-.', 'D':'-..', 'E':'.', 'F':'..-.', 'G':'--.', 'H':'....',\n",
    "                    'I':'..', 'J':'.---', 'K':'-.-', 'L':'.-..', 'M':'--', 'N':'-.','O':'---', 'P':'.--.', 'Q':'--.-',\n",
    "                    'R':'.-.', 'S':'...', 'T':'-','U':'..-', 'V':'...-', 'W':'.--','X':'-..-', 'Y':'-.--', 'Z':'--..',\n",
    "                    '1':'.----', '2':'..---', '3':'...--','4':'....-', '5':'.....', '6':'-....','7':'--...', '8':'---..', '9':'----.',\n",
    "                    '0':'-----', ', ':'--..--', '.':'.-.-.-','?':'..--..', '/':'-..-.', '-':'-....-','(':'-.--.', ')':'-.--.-'}"
   ]
  },
  {
   "cell_type": "code",
   "execution_count": 10,
   "metadata": {},
   "outputs": [],
   "source": [
    "def txt_morse() :\n",
    "    txt = input('Enter the text to be converted to morse code')\n",
    "    code = [morse_apha_key[i.upper()] + ' ' for i in txt if i.upper() in morse_apha_key.keys()]\n",
    "    morse = ''.join(code)\n",
    "    print(morse)\n",
    "    for m in morse:\n",
    "        if m=='.':\n",
    "            playsound('dit.wav')\n",
    "        elif m=='-':\n",
    "            playsound('dah.wav')\n",
    "        else:\n",
    "            time.sleep(0.5)"
   ]
  },
  {
   "cell_type": "code",
   "execution_count": null,
   "metadata": {},
   "outputs": [
    {
     "name": "stdout",
     "output_type": "stream",
     "text": [
      "Select choice1\n",
      "Enter the text to be converted to morse codeHi There\n",
      ".... .. / - .... . .-. . \n",
      "Enter again\n",
      "Select choice2\n",
      "Invalid Input\n",
      "Select choice1\n",
      "Enter the text to be converted to morse codeWhats up\n",
      ".-- .... .- - ... / ..- .--. \n",
      "Enter again\n",
      "Select choice1\n",
      "Enter the text to be converted to morse codewho let the dogs out\n",
      ".-- .... --- / .-.. . - / - .... . / -.. --- --. ... / --- ..- - \n",
      "Enter again\n"
     ]
    }
   ],
   "source": [
    "while True:\n",
    "    try:\n",
    "        selection = int(input('Select choice'))\n",
    "        if selection == 1:\n",
    "            print(txt_morse())\n",
    "        else:\n",
    "            print('Invalid Input')\n",
    "    except:\n",
    "        print('Enter again')"
   ]
  },
  {
   "cell_type": "code",
   "execution_count": null,
   "metadata": {},
   "outputs": [],
   "source": []
  }
 ],
 "metadata": {
  "kernelspec": {
   "display_name": "Python 3",
   "language": "python",
   "name": "python3"
  },
  "language_info": {
   "codemirror_mode": {
    "name": "ipython",
    "version": 3
   },
   "file_extension": ".py",
   "mimetype": "text/x-python",
   "name": "python",
   "nbconvert_exporter": "python",
   "pygments_lexer": "ipython3",
   "version": "3.7.7"
  }
 },
 "nbformat": 4,
 "nbformat_minor": 4
}
